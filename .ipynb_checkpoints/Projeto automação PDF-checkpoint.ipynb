{
 "cells": [
  {
   "cell_type": "markdown",
   "id": "c05d0095",
   "metadata": {},
   "source": [
    "# Projeto 01 PDF Automatico"
   ]
  },
  {
   "cell_type": "markdown",
   "id": "d4fbcff9",
   "metadata": {},
   "source": [
    "### Imprimir na tela"
   ]
  },
  {
   "cell_type": "code",
   "execution_count": 1,
   "id": "4d83440b",
   "metadata": {},
   "outputs": [
    {
     "name": "stdout",
     "output_type": "stream",
     "text": [
      "Orçamento Gerado com sucesso\n"
     ]
    }
   ],
   "source": [
    "print (\"Orçamento Gerado com sucesso\")"
   ]
  },
  {
   "cell_type": "code",
   "execution_count": null,
   "id": "7984ae13",
   "metadata": {},
   "outputs": [],
   "source": []
  },
  {
   "cell_type": "markdown",
   "id": "7887813c",
   "metadata": {},
   "source": [
    "### Entrada de dados"
   ]
  },
  {
   "cell_type": "code",
   "execution_count": null,
   "id": "edb4f86f",
   "metadata": {},
   "outputs": [
    {
     "name": "stdout",
     "output_type": "stream",
     "text": [
      "Digite a descrição do produto:Consultoria em Python\n",
      "Digite o total de horas estimadas:100\n",
      "Digite o valor da hora trabalhada:180\n"
     ]
    }
   ],
   "source": [
    "input (\"Digite a descrição do produto:\")\n",
    "input (\"Digite o total de horas estimadas:\")\n",
    "input (\"Digite o valor da hora trabalhada:\")\n",
    "input (\"Digite o prazo estimado:\")"
   ]
  },
  {
   "cell_type": "markdown",
   "id": "ab22d029",
   "metadata": {},
   "source": [
    "### Gravando dados (variáveis)\n",
    "\n",
    "- não pode começar com número\n",
    "- não pode ter espaço\n",
    "- não pode ser uma palavra reservada do python"
   ]
  },
  {
   "cell_type": "code",
   "execution_count": null,
   "id": "ae56b8ae",
   "metadata": {},
   "outputs": [],
   "source": [
    "projeto = input (\"Digite a descrição do produto:\")\n",
    "horas_estimadas = input (\"Digite o total de horas estimadas:\")\n",
    "valor_hora = input (\"Digite o valor da hora trabalhada:\")\n",
    "prazo = input (\"Digite o prazo estimado:\")"
   ]
  },
  {
   "cell_type": "code",
   "execution_count": null,
   "id": "135a84c1",
   "metadata": {},
   "outputs": [],
   "source": [
    "print(prazo)"
   ]
  },
  {
   "cell_type": "markdown",
   "id": "4948d959",
   "metadata": {},
   "source": [
    "### Cáuculos\n",
    "\n",
    "#### tipos de dados\n",
    "- int - número\n",
    "- str - texto\n"
   ]
  },
  {
   "cell_type": "code",
   "execution_count": null,
   "id": "a859ba29",
   "metadata": {},
   "outputs": [],
   "source": [
    "valor_total = int(horas_estimadas) * int(valor_hora)"
   ]
  },
  {
   "cell_type": "code",
   "execution_count": null,
   "id": "f097e65d",
   "metadata": {},
   "outputs": [],
   "source": [
    "print(valor_total)"
   ]
  },
  {
   "cell_type": "markdown",
   "id": "e3500f7e",
   "metadata": {},
   "source": [
    "# Gerador de PDF"
   ]
  },
  {
   "cell_type": "code",
   "execution_count": null,
   "id": "e20ecfcf",
   "metadata": {},
   "outputs": [],
   "source": [
    "!pip install fpdf"
   ]
  },
  {
   "cell_type": "code",
   "execution_count": null,
   "id": "fe0a7d0b",
   "metadata": {},
   "outputs": [],
   "source": [
    "from fpdf import FPDF"
   ]
  },
  {
   "cell_type": "code",
   "execution_count": null,
   "id": "5f0b0e40",
   "metadata": {},
   "outputs": [],
   "source": [
    "pdf = FPDF()\n",
    "\n",
    "pdf.add_page()\n",
    "pdf.set_font(\"Arial\")\n",
    "pdf.image(\"Template_Automação.png\", x=0, y=0)\n",
    "\n",
    "pdf.text(115, 145, projeto)\n",
    "pdf.text(115, 160, horas_estimadas)\n",
    "pdf.text(115, 175, valor_hora)\n",
    "pdf.text(115, 190, prazo)\n",
    "pdf.text(115, 205, str(valor_total))\n",
    "\n",
    "pdf.output (\"Orçamento.pdf\")\n",
    "print(\"Orçamento gerado com sucesso\")\n"
   ]
  },
  {
   "cell_type": "code",
   "execution_count": null,
   "id": "b4c5c4e4",
   "metadata": {},
   "outputs": [],
   "source": []
  },
  {
   "cell_type": "code",
   "execution_count": null,
   "id": "3e52c9d9",
   "metadata": {},
   "outputs": [],
   "source": []
  }
 ],
 "metadata": {
  "kernelspec": {
   "display_name": "Python 3 (ipykernel)",
   "language": "python",
   "name": "python3"
  },
  "language_info": {
   "codemirror_mode": {
    "name": "ipython",
    "version": 3
   },
   "file_extension": ".py",
   "mimetype": "text/x-python",
   "name": "python",
   "nbconvert_exporter": "python",
   "pygments_lexer": "ipython3",
   "version": "3.10.9"
  }
 },
 "nbformat": 4,
 "nbformat_minor": 5
}
